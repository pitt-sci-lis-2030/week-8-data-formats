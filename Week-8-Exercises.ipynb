{
 "cells": [
  {
   "cell_type": "markdown",
   "metadata": {},
   "source": [
    "# Parsing JSON file"
   ]
  },
  {
   "cell_type": "markdown",
   "metadata": {},
   "source": [
    "**Q1:** Open the JSON file `studentsInfo.json` and parse it into a Python data structure. Then complete the following tasks:\n",
    "\n",
    "1. Print out the total number of the students in this json file.\n",
    "2. Print the student names and corresponding schools from the data. The expect output should looks like:\n",
    "\n",
    "```\n",
    "Austin: University of Pittsburgh\n",
    "Bob: Penn State University\n",
    "Wesley: Ohio State University\n",
    "Nova: New York University\n",
    "Felicity: Stanford University\n",
    "Tim: Stanford University\n",
    "Justin: University of Pittsburgh\n",
    "William: University of Pittsburgh\n",
    "Harper: Ohio State University\n",
    "James: New York University\n",
    "Mason: Stanford University\n",
    "Ella: Stanford University\n",
    "Jackson: University of Pittsburgh\n",
    "```"
   ]
  },
  {
   "cell_type": "code",
   "execution_count": null,
   "metadata": {},
   "outputs": [],
   "source": [
    "# your code here"
   ]
  },
  {
   "cell_type": "markdown",
   "metadata": {},
   "source": [
    "***Q2:*** Take the JSON data below and use it to create a Python dictionary. Then serialize the  dictionary as JSON file named `orderRecord.json`."
   ]
  },
  {
   "cell_type": "markdown",
   "metadata": {},
   "source": [
    "```JSON\n",
    "{ \n",
    "    \"size\": \"medium\",\n",
    "    \"price\": 15.67,\n",
    "    \"toppings\": [\"mushrooms\", \"pepperoni\", \"basil\"],\n",
    "    \"extra_cheese\": False,\n",
    "    \"delivery\": True,\n",
    "    \"client\": {\n",
    "        \"name\": \"Jane Doe\",\n",
    "        \"phone\": None,\n",
    "        \"email\": \"janedoe@email.com\"\n",
    "    }\n",
    "}\n",
    "```"
   ]
  },
  {
   "cell_type": "code",
   "execution_count": null,
   "metadata": {},
   "outputs": [],
   "source": [
    "# Your code here"
   ]
  },
  {
   "cell_type": "markdown",
   "metadata": {},
   "source": [
    "# Parsing with pymarc\n",
    "**Q3.** Download the *Churchill Archive MARC records* from [Churchill Archive](http://www.churchillarchive.com/subscriber-services/marc-records), and perform the following requirements:\n",
    "\n",
    "1. Write a program to read the Churchill Archive MARC records into Python \n",
    "2. Find any record that contains the string \"Churchill Archive\" in the `245` field. The expect output should looks like:\n",
    "\n",
    "```\n",
    "=245  10$aChurchill Archive :$bCHAR 1 : Personal (1884-1945).\n",
    "=245  10$aChurchill Archive :$bCHAR 2 : Public and Political : general (1898-1945).\n",
    "=245  10$aChurchill Archive :$bCHAR 3 : Political : Constituency : Oldham [Lancashire] (1900-1905).\n",
    "=245  10$aChurchill Archive :$bCHAR 4 : Political : Constituency : North West Manchester (1904-1908).\n",
    "=245  10$aChurchill Archive :$bCHAR 5 : Constituency : Dundee (1908-1922).\n",
    "=245  10$aChurchill Archive :$bCHAR 6 : Political : Constituency, out of office (1923-1924).\n",
    "=245  10$aChurchill Archive :$bCHAR 7 : Political : Constituency : Epping [Essex] (1924-1945).\n",
    "=245  10$aChurchill Archive :$bCHAR 8 : Literary (1890-1945).\n",
    "=245  10$aChurchill Archive :$bCHAR 9 : Speeches (1897-1945).\n",
    "=245  10$aChurchill Archive :$bCHAR 10 : Official : Colonial Office (1902-1908).\n",
    "=245  10$aChurchill Archive :$bCHAR 11 : Official : Board of Trade (1906-1911).\n",
    "=245  10$aChurchill Archive :$bCHAR 12 : Home Office (1910-1911).\n",
    "=245  10$aChurchill Archive :$bCHAR 13 : Official : Admiralty (1911-1915).\n",
    "=245  10$aChurchill Archive :$bCHAR 14 : Official : Duchy of Lancaster (1915).\n",
    "=245  10$aChurchill Archive :$bCHAR 15 : Official : Ministry of Munitions (1917-1919).\n",
    "=245  10$aChurchill Archive :$bCHAR 16 : Official : War and Air (1918-1921).\n",
    "=245  10$aChurchill Archive :$bCHAR 17 : Official : Colonial Office (1920-1922).\n",
    "=245  10$aChurchill Archive :$bCHAR 18 : Official : Treasury (1924-1929).\n",
    "=245  10$aChurchill Archive :$bCHAR 19 : Official : Admiralty (1939-1940).\n",
    "=245  10$aChurchill Archive :$bCHAR 20 : Official : Prime Minister (1940-1945).\n",
    "=245  10$aChurchill Archive :$bCHAR 21 : Official : Cabinet (1908-1915).\n",
    "=245  10$aChurchill Archive :$bCHAR 22 : Official : Cabinet (1920-1929).\n",
    "=245  10$aChurchill Archive :$bCHAR 23 : Official : War Cabinet (1939-1945).\n",
    "=245  10$aChurchill Archive :$bCHAR 24 : Official : Committee of Imperial Defence (1909-1914).\n",
    "=245  10$aChurchill Archive :$bCHAR 25 : Official : Committee of Imperial Defence (1920-1939).\n",
    "=245  10$aChurchill Archive :$bCHAR 26 : Official : War Council (1914-1915).\n",
    "=245  10$aChurchill Archive :$bCHAR 27 : Official : War Cabinet (1917-1919).\n",
    "=245  10$aChurchill Archive :$bCHAR 28 : Acquired Papers (1690-1960).\n",
    "=245  10$aChurchill Archive :$bCHAR 29 : Miscellanea (1906-1924).\n",
    "=245  10$aChurchill Archive :$bCHAR 30 : Obsolete Lists (1921-1952).\n",
    "=245  10$aChurchill Archive :$bCHUR 1 : Personal (1945-1965).\n",
    "=245  10$aChurchill Archive :$bCHUR 2 : Public and Political : General (1945-1965).\n",
    "=245  10$aChurchill Archive :$bCHUR 3 : Political : Constituency : Woodford [Essex] (1943-1965).\n",
    "=245  10$aChurchill Archive :$bCHUR 4 : Literary (1924-1965).\n",
    "=245  10$aChurchill Archive :$bCHUR 5 : Speeches (1942-1960).\n",
    "=245  10$aChurchill Archive :$bCHUR 6 : Official : Prime Minister (1951-1955).\n",
    "=245  00$aChurchill Archive :$bIn-depth guides.\n",
    "=245  00$aChurchill Archive :$bCollection Highlights.\n",
    "=245  00$aChurchill Archive :$bIntroductions.\n",
    "\n",
    "```\n",
    "\n",
    "**Hint** If you are on JupyterHub, you do not need to install any 3rd party libraries. Everything you need is already installed."
   ]
  },
  {
   "cell_type": "code",
   "execution_count": null,
   "metadata": {},
   "outputs": [],
   "source": [
    "# Your code here"
   ]
  }
 ],
 "metadata": {
  "kernelspec": {
   "display_name": "Python 3",
   "language": "python",
   "name": "python3"
  },
  "language_info": {
   "codemirror_mode": {
    "name": "ipython",
    "version": 3
   },
   "file_extension": ".py",
   "mimetype": "text/x-python",
   "name": "python",
   "nbconvert_exporter": "python",
   "pygments_lexer": "ipython3",
   "version": "3.8.5"
  }
 },
 "nbformat": 4,
 "nbformat_minor": 4
}
